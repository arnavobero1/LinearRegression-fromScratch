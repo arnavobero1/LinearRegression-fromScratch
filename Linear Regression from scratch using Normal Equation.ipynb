{
 "cells": [
  {
   "cell_type": "markdown",
   "metadata": {},
   "source": [
    "# Linear Regression Algorithm using Normal Equation"
   ]
  },
  {
   "cell_type": "code",
   "execution_count": 1,
   "metadata": {},
   "outputs": [],
   "source": [
    "#Importing the libraries and accomodating the data into a pandas dataframe\n",
    "import numpy as np\n",
    "import pandas as pd\n",
    "df = pd.read_csv('USA_Housing.csv')\n",
    "df.drop('Address',axis = 1,inplace = True)"
   ]
  },
  {
   "cell_type": "markdown",
   "metadata": {},
   "source": [
    "### The equations we will be using is: \n",
    "### 1.\n",
    "\n",
    "### \\begin{align} \n",
    "h_{\\theta}(X) & = \\theta_{0} + \\theta_{1}.x_{1} + \\theta_{2}.x_{2} + \\theta_{3}.x_{3} + \\theta_{4}.x_{4} + \\theta_{5}.x_{5}\n",
    "\\end{align}\n",
    "\n",
    "#### where y hat is the predicted value, $θ_{0}$ is the intercept, $θ_{1}$, $θ_{2}$, $θ_{3}$, $θ_{4}$ and $θ_{5}$ are the coefficients and $X_{1}$, $X_{2}$, $X_{3}$, $X_{4}$ and $X_{5}$ are the independent variables. $X_{0}$ will be a column of 1s in the matrix X. \n",
    "\n",
    "### 2.\n",
    "### \\begin{align} \n",
    "\\theta = (X.X^{T})^{-1}.(X^{T}y)\n",
    "\\end{align}\n",
    "\n",
    "#### where X is the matrix of features(Independent variables) and y is the vector of target(dependent variable)\n",
    "\n",
    "\n",
    "#### The first equation we will be using in matrix form to solve it all at once."
   ]
  },
  {
   "cell_type": "code",
   "execution_count": 2,
   "metadata": {},
   "outputs": [
    {
     "data": {
      "text/html": [
       "<div>\n",
       "<style scoped>\n",
       "    .dataframe tbody tr th:only-of-type {\n",
       "        vertical-align: middle;\n",
       "    }\n",
       "\n",
       "    .dataframe tbody tr th {\n",
       "        vertical-align: top;\n",
       "    }\n",
       "\n",
       "    .dataframe thead th {\n",
       "        text-align: right;\n",
       "    }\n",
       "</style>\n",
       "<table border=\"1\" class=\"dataframe\">\n",
       "  <thead>\n",
       "    <tr style=\"text-align: right;\">\n",
       "      <th></th>\n",
       "      <th>Avg. Area Income</th>\n",
       "      <th>Avg. Area House Age</th>\n",
       "      <th>Avg. Area Number of Rooms</th>\n",
       "      <th>Avg. Area Number of Bedrooms</th>\n",
       "      <th>Area Population</th>\n",
       "      <th>Price</th>\n",
       "    </tr>\n",
       "  </thead>\n",
       "  <tbody>\n",
       "    <tr>\n",
       "      <td>0</td>\n",
       "      <td>79545.458574</td>\n",
       "      <td>5.682861</td>\n",
       "      <td>7.009188</td>\n",
       "      <td>4.09</td>\n",
       "      <td>23086.800503</td>\n",
       "      <td>1.059034e+06</td>\n",
       "    </tr>\n",
       "    <tr>\n",
       "      <td>1</td>\n",
       "      <td>79248.642455</td>\n",
       "      <td>6.002900</td>\n",
       "      <td>6.730821</td>\n",
       "      <td>3.09</td>\n",
       "      <td>40173.072174</td>\n",
       "      <td>1.505891e+06</td>\n",
       "    </tr>\n",
       "    <tr>\n",
       "      <td>2</td>\n",
       "      <td>61287.067179</td>\n",
       "      <td>5.865890</td>\n",
       "      <td>8.512727</td>\n",
       "      <td>5.13</td>\n",
       "      <td>36882.159400</td>\n",
       "      <td>1.058988e+06</td>\n",
       "    </tr>\n",
       "    <tr>\n",
       "      <td>3</td>\n",
       "      <td>63345.240046</td>\n",
       "      <td>7.188236</td>\n",
       "      <td>5.586729</td>\n",
       "      <td>3.26</td>\n",
       "      <td>34310.242831</td>\n",
       "      <td>1.260617e+06</td>\n",
       "    </tr>\n",
       "    <tr>\n",
       "      <td>4</td>\n",
       "      <td>59982.197226</td>\n",
       "      <td>5.040555</td>\n",
       "      <td>7.839388</td>\n",
       "      <td>4.23</td>\n",
       "      <td>26354.109472</td>\n",
       "      <td>6.309435e+05</td>\n",
       "    </tr>\n",
       "  </tbody>\n",
       "</table>\n",
       "</div>"
      ],
      "text/plain": [
       "   Avg. Area Income  Avg. Area House Age  Avg. Area Number of Rooms  \\\n",
       "0      79545.458574             5.682861                   7.009188   \n",
       "1      79248.642455             6.002900                   6.730821   \n",
       "2      61287.067179             5.865890                   8.512727   \n",
       "3      63345.240046             7.188236                   5.586729   \n",
       "4      59982.197226             5.040555                   7.839388   \n",
       "\n",
       "   Avg. Area Number of Bedrooms  Area Population         Price  \n",
       "0                          4.09     23086.800503  1.059034e+06  \n",
       "1                          3.09     40173.072174  1.505891e+06  \n",
       "2                          5.13     36882.159400  1.058988e+06  \n",
       "3                          3.26     34310.242831  1.260617e+06  \n",
       "4                          4.23     26354.109472  6.309435e+05  "
      ]
     },
     "execution_count": 2,
     "metadata": {},
     "output_type": "execute_result"
    }
   ],
   "source": [
    "#Checking how our data looks\n",
    "df.head()"
   ]
  },
  {
   "cell_type": "code",
   "execution_count": 3,
   "metadata": {},
   "outputs": [
    {
     "data": {
      "text/plain": [
       "(5000, 6)"
      ]
     },
     "execution_count": 3,
     "metadata": {},
     "output_type": "execute_result"
    }
   ],
   "source": [
    "#Checking the shape of our dataset\n",
    "df.shape"
   ]
  },
  {
   "cell_type": "markdown",
   "metadata": {},
   "source": [
    "#### So our data has 5000 records and 6 features/columns"
   ]
  },
  {
   "cell_type": "code",
   "execution_count": 4,
   "metadata": {},
   "outputs": [],
   "source": [
    "#Changing the dataframe to an array for train/test split\n",
    "df_to_array = df.values"
   ]
  },
  {
   "cell_type": "code",
   "execution_count": 5,
   "metadata": {},
   "outputs": [
    {
     "data": {
      "text/plain": [
       "array([[7.95454586e+04, 5.68286132e+00, 7.00918814e+00, 4.09000000e+00,\n",
       "        2.30868005e+04, 1.05903356e+06],\n",
       "       [7.92486425e+04, 6.00289981e+00, 6.73082102e+00, 3.09000000e+00,\n",
       "        4.01730722e+04, 1.50589091e+06],\n",
       "       [6.12870672e+04, 5.86588984e+00, 8.51272743e+00, 5.13000000e+00,\n",
       "        3.68821594e+04, 1.05898799e+06],\n",
       "       ...,\n",
       "       [6.33906869e+04, 7.25059061e+00, 4.80508098e+00, 2.13000000e+00,\n",
       "        3.32661455e+04, 1.03072958e+06],\n",
       "       [6.80013312e+04, 5.53438842e+00, 7.13014386e+00, 5.44000000e+00,\n",
       "        4.26256202e+04, 1.19865687e+06],\n",
       "       [6.55105818e+04, 5.99230531e+00, 6.79233610e+00, 4.07000000e+00,\n",
       "        4.65012838e+04, 1.29895048e+06]])"
      ]
     },
     "execution_count": 5,
     "metadata": {},
     "output_type": "execute_result"
    }
   ],
   "source": [
    "#Checking how our array looks\n",
    "df_to_array"
   ]
  },
  {
   "cell_type": "code",
   "execution_count": 6,
   "metadata": {},
   "outputs": [],
   "source": [
    "#Shuffling data to make it random before splitting then splitting into 80% training and 20% testing\n",
    "np.random.shuffle(df_to_array)\n",
    "train, test = df_to_array[:3750,:], df_to_array[3750:,:]"
   ]
  },
  {
   "cell_type": "code",
   "execution_count": 7,
   "metadata": {},
   "outputs": [
    {
     "data": {
      "text/plain": [
       "array([[5.75682171e+04, 6.54484553e+00, 7.21482412e+00, 4.31000000e+00,\n",
       "        3.43854132e+04, 9.49684410e+05],\n",
       "       [8.00779305e+04, 5.73952183e+00, 7.43700914e+00, 4.50000000e+00,\n",
       "        3.07743943e+04, 1.60334267e+06],\n",
       "       [6.55940674e+04, 7.49280332e+00, 7.11368510e+00, 3.30000000e+00,\n",
       "        2.45805637e+04, 1.17998732e+06],\n",
       "       ...,\n",
       "       [8.11078960e+04, 6.53747789e+00, 8.39101604e+00, 6.30000000e+00,\n",
       "        4.09369896e+04, 1.78732451e+06],\n",
       "       [6.23584041e+04, 6.87097676e+00, 7.32697575e+00, 4.19000000e+00,\n",
       "        3.53659456e+04, 1.21227636e+06],\n",
       "       [6.92014374e+04, 5.55904731e+00, 5.72736776e+00, 3.42000000e+00,\n",
       "        4.25735780e+04, 1.10966556e+06]])"
      ]
     },
     "execution_count": 7,
     "metadata": {},
     "output_type": "execute_result"
    }
   ],
   "source": [
    "train"
   ]
  },
  {
   "cell_type": "code",
   "execution_count": 8,
   "metadata": {},
   "outputs": [
    {
     "data": {
      "text/plain": [
       "array([[6.40552842e+04, 7.55289055e+00, 7.33722945e+00, 5.21000000e+00,\n",
       "        2.78046052e+04, 1.28900822e+06],\n",
       "       [6.46619303e+04, 4.65669575e+00, 5.66025312e+00, 2.44000000e+00,\n",
       "        4.94571794e+04, 8.75904529e+05],\n",
       "       [6.78460487e+04, 5.37970485e+00, 6.10386333e+00, 4.15000000e+00,\n",
       "        2.74420962e+04, 8.79511196e+05],\n",
       "       ...,\n",
       "       [6.07318823e+04, 6.22571936e+00, 8.54583209e+00, 5.46000000e+00,\n",
       "        3.53410678e+04, 1.23547555e+06],\n",
       "       [7.02196904e+04, 5.70724724e+00, 7.60949936e+00, 5.01000000e+00,\n",
       "        2.85538155e+04, 1.12677841e+06],\n",
       "       [5.91798686e+04, 6.21548829e+00, 6.51924929e+00, 2.45000000e+00,\n",
       "        3.35495531e+04, 8.92718091e+05]])"
      ]
     },
     "execution_count": 8,
     "metadata": {},
     "output_type": "execute_result"
    }
   ],
   "source": [
    "test"
   ]
  },
  {
   "cell_type": "code",
   "execution_count": 9,
   "metadata": {},
   "outputs": [],
   "source": [
    "#Diving split data into X and y for machine learning where X will be for independent variables and y for dependent\n",
    "X_train = train[:,:-1]\n",
    "X_test = test[:,:-1]\n",
    "y_train = train[:,-1]\n",
    "y_test = test[:,-1]"
   ]
  },
  {
   "cell_type": "code",
   "execution_count": 10,
   "metadata": {},
   "outputs": [],
   "source": [
    "#Making a vector with only 1s as records for X0\n",
    "x_bias = np.ones((3750,1))"
   ]
  },
  {
   "cell_type": "code",
   "execution_count": 11,
   "metadata": {},
   "outputs": [],
   "source": [
    "#Adding the column X0\n",
    "X_train = np.append(x_bias,X_train,axis=1)"
   ]
  },
  {
   "cell_type": "code",
   "execution_count": 12,
   "metadata": {},
   "outputs": [
    {
     "data": {
      "text/plain": [
       "array([[1.00000000e+00, 5.75682171e+04, 6.54484553e+00, 7.21482412e+00,\n",
       "        4.31000000e+00, 3.43854132e+04],\n",
       "       [1.00000000e+00, 8.00779305e+04, 5.73952183e+00, 7.43700914e+00,\n",
       "        4.50000000e+00, 3.07743943e+04],\n",
       "       [1.00000000e+00, 6.55940674e+04, 7.49280332e+00, 7.11368510e+00,\n",
       "        3.30000000e+00, 2.45805637e+04],\n",
       "       ...,\n",
       "       [1.00000000e+00, 8.11078960e+04, 6.53747789e+00, 8.39101604e+00,\n",
       "        6.30000000e+00, 4.09369896e+04],\n",
       "       [1.00000000e+00, 6.23584041e+04, 6.87097676e+00, 7.32697575e+00,\n",
       "        4.19000000e+00, 3.53659456e+04],\n",
       "       [1.00000000e+00, 6.92014374e+04, 5.55904731e+00, 5.72736776e+00,\n",
       "        3.42000000e+00, 4.25735780e+04]])"
      ]
     },
     "execution_count": 12,
     "metadata": {},
     "output_type": "execute_result"
    }
   ],
   "source": [
    "#looking at our new array\n",
    "X_train"
   ]
  },
  {
   "cell_type": "code",
   "execution_count": 13,
   "metadata": {},
   "outputs": [
    {
     "data": {
      "text/plain": [
       "(3750, 6)"
      ]
     },
     "execution_count": 13,
     "metadata": {},
     "output_type": "execute_result"
    }
   ],
   "source": [
    "#Checking the new shape\n",
    "X_train.shape"
   ]
  },
  {
   "cell_type": "markdown",
   "metadata": {},
   "source": [
    "#### To solve the second equation, we will calculate the transpose and the inverse"
   ]
  },
  {
   "cell_type": "code",
   "execution_count": 14,
   "metadata": {},
   "outputs": [],
   "source": [
    "#Solving the transpose and inverse\n",
    "x_transpose = np.transpose(X_train)\n",
    "x_transpose_dot_x = x_transpose.dot(X_train)\n",
    "var1 = np.linalg.inv(x_transpose_dot_x)"
   ]
  },
  {
   "cell_type": "markdown",
   "metadata": {},
   "source": [
    "### \\begin{align} \n",
    "var1 = (X.X^{T})^{-1}\n",
    "\\end{align}"
   ]
  },
  {
   "cell_type": "code",
   "execution_count": 15,
   "metadata": {},
   "outputs": [
    {
     "data": {
      "text/plain": [
       "array([[ 3.84070284e-02, -1.67621120e-07, -1.63901149e-03,\n",
       "        -1.88075824e-03,  2.56895541e-05, -1.05964840e-07],\n",
       "       [-1.67621120e-07,  2.41166776e-12, -3.31309979e-10,\n",
       "         5.84395564e-10, -4.22828564e-10,  4.54951772e-14],\n",
       "       [-1.63901149e-03, -3.31309979e-10,  2.76552430e-04,\n",
       "         1.35083816e-06, -2.06108675e-06,  2.77939863e-10],\n",
       "       [-1.88075824e-03,  5.84395564e-10,  1.35083816e-06,\n",
       "         3.37278310e-04, -1.28610140e-04, -2.39019122e-10],\n",
       "       [ 2.56895541e-05, -4.22828564e-10, -2.06108675e-06,\n",
       "        -1.28610140e-04,  2.23714996e-04,  6.00374648e-10],\n",
       "       [-1.05964840e-07,  4.54951772e-14,  2.77939863e-10,\n",
       "        -2.39019122e-10,  6.00374648e-10,  2.78023060e-12]])"
      ]
     },
     "execution_count": 15,
     "metadata": {},
     "output_type": "execute_result"
    }
   ],
   "source": [
    "#Checking how var1 looks\n",
    "var1"
   ]
  },
  {
   "cell_type": "code",
   "execution_count": 16,
   "metadata": {},
   "outputs": [],
   "source": [
    "#Checking how var2 looks\n",
    "var2 = x_transpose.dot(y_train)  "
   ]
  },
  {
   "cell_type": "code",
   "execution_count": 17,
   "metadata": {},
   "outputs": [
    {
     "data": {
      "text/plain": [
       "array([4.61510504e+09, 3.25743015e+14, 2.81440872e+10, 3.26537092e+10,\n",
       "       1.86664441e+10, 1.71975676e+14])"
      ]
     },
     "execution_count": 17,
     "metadata": {},
     "output_type": "execute_result"
    }
   ],
   "source": [
    "var2"
   ]
  },
  {
   "cell_type": "markdown",
   "metadata": {},
   "source": [
    "### \\begin{align}\n",
    "var2 = (X^{T}.y)\n",
    "\\end{align}"
   ]
  },
  {
   "cell_type": "code",
   "execution_count": 18,
   "metadata": {},
   "outputs": [
    {
     "data": {
      "text/plain": [
       "array([-2.63499588e+06,  2.16844736e+01,  1.64619195e+05,  1.20072430e+05,\n",
       "        2.43431816e+03,  1.51372683e+01])"
      ]
     },
     "execution_count": 18,
     "metadata": {},
     "output_type": "execute_result"
    }
   ],
   "source": [
    "#Solving the full equation and getting our intercept and  coefficients\n",
    "theta = var1.dot(var2)\n",
    "theta"
   ]
  },
  {
   "cell_type": "markdown",
   "metadata": {},
   "source": [
    "### \\begin{align} \n",
    "\\theta = (X.X^{T})^{-1}.(X^{T}y)\n",
    "\\end{align}"
   ]
  },
  {
   "cell_type": "code",
   "execution_count": 19,
   "metadata": {},
   "outputs": [
    {
     "data": {
      "text/plain": [
       "(6,)"
      ]
     },
     "execution_count": 19,
     "metadata": {},
     "output_type": "execute_result"
    }
   ],
   "source": [
    "#Checking the shape of the theta vector\n",
    "theta.shape"
   ]
  },
  {
   "cell_type": "markdown",
   "metadata": {},
   "source": [
    "#### This is how our theta vector looks:\n",
    "\n",
    "### \\begin{align}\n",
    "\\theta = \\left( \\begin{array}{c} \\theta_0 \\\\ \\theta_1 \\\\ \\theta_2 \\\\ \\theta_3 \\\\ \\theta_4 \\\\ \\theta_5\\end{array} \\right)\n",
    "\\end{align}"
   ]
  },
  {
   "cell_type": "code",
   "execution_count": 20,
   "metadata": {},
   "outputs": [],
   "source": [
    "#Appending a column of 1s to our matrix X for testing data \n",
    "x_bias = np.ones((1250,1))\n",
    "X_test = np.append(x_bias,X_test,axis=1)"
   ]
  },
  {
   "cell_type": "code",
   "execution_count": 21,
   "metadata": {},
   "outputs": [
    {
     "data": {
      "text/plain": [
       "(1250, 6)"
      ]
     },
     "execution_count": 21,
     "metadata": {},
     "output_type": "execute_result"
    }
   ],
   "source": [
    "#Validating the shape of X test matrix\n",
    "X_test.shape"
   ]
  },
  {
   "cell_type": "code",
   "execution_count": 22,
   "metadata": {},
   "outputs": [],
   "source": [
    "#Calculating the predicted values using dot product for X matrix and theta vector\n",
    "predicted_values = np.dot(X_test,theta)"
   ]
  },
  {
   "cell_type": "code",
   "execution_count": 23,
   "metadata": {},
   "outputs": [
    {
     "data": {
      "text/plain": [
       "array([1311927.53135889,  967972.21647819,  880219.14325652, ...,\n",
       "       1281193.35081377, 1185317.36215023,  968071.86124705])"
      ]
     },
     "execution_count": 23,
     "metadata": {},
     "output_type": "execute_result"
    }
   ],
   "source": [
    "#Taking a look at the predicted values\n",
    "predicted_values"
   ]
  },
  {
   "cell_type": "markdown",
   "metadata": {},
   "source": [
    "#### Now since our vector θ is of 6x1 dimension and matrix X is of 1250x6, we will get a vector of dimensions 1250x1(By matrix multiplication property)"
   ]
  },
  {
   "cell_type": "code",
   "execution_count": 24,
   "metadata": {},
   "outputs": [
    {
     "data": {
      "text/plain": [
       "(1250,)"
      ]
     },
     "execution_count": 24,
     "metadata": {},
     "output_type": "execute_result"
    }
   ],
   "source": [
    "#Checking the shape of our predicted values vector\n",
    "predicted_values.shape"
   ]
  },
  {
   "cell_type": "code",
   "execution_count": 25,
   "metadata": {},
   "outputs": [
    {
     "name": "stdout",
     "output_type": "stream",
     "text": [
      "10290526596.970495\n"
     ]
    }
   ],
   "source": [
    "#Now to calculate the mean squared error\n",
    "Mean_Squared_Error = (sum((predicted_values-y_test)**2)/1250)\n",
    "print(Mean_Squared_Error)"
   ]
  },
  {
   "cell_type": "code",
   "execution_count": 26,
   "metadata": {},
   "outputs": [
    {
     "data": {
      "text/plain": [
       "5374448602294.948"
      ]
     },
     "execution_count": 26,
     "metadata": {},
     "output_type": "execute_result"
    }
   ],
   "source": [
    "max(y_test**2)"
   ]
  },
  {
   "cell_type": "markdown",
   "metadata": {},
   "source": [
    "### \\begin{align}\n",
    "J(\\theta) = \\frac{1}{n} \\sum \\limits _{i=1} ^{n} (\\hat{y}_i - y_i)^{2}\n",
    "\\end{align}\n",
    "\n",
    "\n",
    "#### Where n is the sample size, y hat is the predicted value and y is the test value. J(θ) is actually the cost function and is also called mean squared error. Minimizing the cost function to predict accurately is the principle behind Linear Regression."
   ]
  },
  {
   "cell_type": "code",
   "execution_count": 27,
   "metadata": {},
   "outputs": [],
   "source": [
    "#Calculating the mean of the testing target values\n",
    "mean = y_test.mean()"
   ]
  },
  {
   "cell_type": "code",
   "execution_count": 28,
   "metadata": {},
   "outputs": [
    {
     "name": "stdout",
     "output_type": "stream",
     "text": [
      "0.9193566292948949\n"
     ]
    }
   ],
   "source": [
    "#Finding out the R-squared value to check how are data has fitted to the regression line\n",
    "R2_score = 1 - sum((predicted_values-y_test)**2)/sum((y_test-mean)**2)\n",
    "print(R2_score)"
   ]
  },
  {
   "cell_type": "markdown",
   "metadata": {},
   "source": [
    "### \\begin{align}\n",
    "R^{2} = 1- \\frac{\\sum \\limits _{i=1} ^{n} (\\hat{y}_i - y_i)^{2}}{\\sum \\limits _{i=1} ^{n} ({y}_i - \\bar{y}_i)^{2}}\n",
    "\\end{align}\n",
    "\n",
    "#### Where n is the sample size, y hat is the predicted value and y is the test value"
   ]
  },
  {
   "cell_type": "markdown",
   "metadata": {},
   "source": [
    "#### R-squared is a statistical measure of how close the data are to the fitted regression line. It is also known as the coefficient of multiple determination for multiple regression. 100% indicates that the model explains all the variability of the response data around its mean."
   ]
  },
  {
   "cell_type": "markdown",
   "metadata": {},
   "source": [
    "#### So we have achieved a really high score which is impressive considering the range of $R^{2}$ lies between 0 and 1."
   ]
  }
 ],
 "metadata": {
  "kernelspec": {
   "display_name": "Python 3",
   "language": "python",
   "name": "python3"
  },
  "language_info": {
   "codemirror_mode": {
    "name": "ipython",
    "version": 3
   },
   "file_extension": ".py",
   "mimetype": "text/x-python",
   "name": "python",
   "nbconvert_exporter": "python",
   "pygments_lexer": "ipython3",
   "version": "3.7.3"
  }
 },
 "nbformat": 4,
 "nbformat_minor": 2
}
